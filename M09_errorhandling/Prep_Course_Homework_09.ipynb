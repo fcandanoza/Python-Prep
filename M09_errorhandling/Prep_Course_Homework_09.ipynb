{
 "cells": [
  {
   "attachments": {},
   "cell_type": "markdown",
   "metadata": {},
   "source": [
    "## Manejo de errores"
   ]
  },
  {
   "attachments": {},
   "cell_type": "markdown",
   "metadata": {},
   "source": [
    "1) Con la clase creada en el módulo 7, tener en cuenta diferentes casos en que el código pudiera arrojar error. Por ejemplo, en la creación del objeto recibimos una lista de números enteros pero ¿qué pasa si se envía otro tipo de dato?"
   ]
  },
  {
   "cell_type": "code",
   "execution_count": 4,
   "metadata": {},
   "outputs": [],
   "source": [
    "import sys\n",
    "sys.path.append(r'c:\\Users\\15-dy2057\\OneDrive\\Escritorio\\Python-Prep\\M08_clasesyOOP')"
   ]
  },
  {
   "cell_type": "code",
   "execution_count": 19,
   "metadata": {},
   "outputs": [
    {
     "name": "stdout",
     "output_type": "stream",
     "text": [
      "['c:\\\\Users\\\\15-dy2057\\\\OneDrive\\\\Escritorio\\\\Python-Prep\\\\M09_errorhandling', 'c:\\\\Users\\\\15-dy2057\\\\AppData\\\\Local\\\\Programs\\\\Python\\\\Python310\\\\python310.zip', 'c:\\\\Users\\\\15-dy2057\\\\AppData\\\\Local\\\\Programs\\\\Python\\\\Python310\\\\DLLs', 'c:\\\\Users\\\\15-dy2057\\\\AppData\\\\Local\\\\Programs\\\\Python\\\\Python310\\\\lib', 'c:\\\\Users\\\\15-dy2057\\\\AppData\\\\Local\\\\Programs\\\\Python\\\\Python310', '', 'C:\\\\Users\\\\15-dy2057\\\\AppData\\\\Roaming\\\\Python\\\\Python310\\\\site-packages', 'C:\\\\Users\\\\15-dy2057\\\\AppData\\\\Roaming\\\\Python\\\\Python310\\\\site-packages\\\\win32', 'C:\\\\Users\\\\15-dy2057\\\\AppData\\\\Roaming\\\\Python\\\\Python310\\\\site-packages\\\\win32\\\\lib', 'C:\\\\Users\\\\15-dy2057\\\\AppData\\\\Roaming\\\\Python\\\\Python310\\\\site-packages\\\\Pythonwin', 'c:\\\\Users\\\\15-dy2057\\\\AppData\\\\Local\\\\Programs\\\\Python\\\\Python310\\\\lib\\\\site-packages', 'c:\\\\Users\\\\15-dy2057\\\\OneDrive\\\\Escritorio\\\\Python-Prep\\\\M08_clasesyOOP']\n"
     ]
    }
   ],
   "source": [
    "print(sys.path)"
   ]
  },
  {
   "cell_type": "code",
   "execution_count": 46,
   "metadata": {},
   "outputs": [],
   "source": [
    "from importlib import reload\n",
    "\n",
    "import Class_Modulo_7 as m7"
   ]
  },
  {
   "cell_type": "code",
   "execution_count": 136,
   "metadata": {},
   "outputs": [
    {
     "data": {
      "text/plain": [
       "<module 'Class_Modulo_7' from 'c:\\\\Users\\\\15-dy2057\\\\OneDrive\\\\Escritorio\\\\Python-Prep\\\\M08_clasesyOOP\\\\Class_Modulo_7.py'>"
      ]
     },
     "execution_count": 136,
     "metadata": {},
     "output_type": "execute_result"
    }
   ],
   "source": [
    "reload (m7)"
   ]
  },
  {
   "cell_type": "code",
   "execution_count": 106,
   "metadata": {},
   "outputs": [
    {
     "ename": "ValueError",
     "evalue": "El tipo de datos esperado es una lista de números enteros",
     "output_type": "error",
     "traceback": [
      "\u001b[1;31m---------------------------------------------------------------------------\u001b[0m",
      "\u001b[1;31mValueError\u001b[0m                                Traceback (most recent call last)",
      "Cell \u001b[1;32mIn[106], line 1\u001b[0m\n\u001b[1;32m----> 1\u001b[0m operaciones \u001b[38;5;241m=\u001b[39m \u001b[43mm7\u001b[49m\u001b[38;5;241;43m.\u001b[39;49m\u001b[43mModulo_7\u001b[49m\u001b[43m(\u001b[49m\u001b[38;5;124;43m\"\u001b[39;49m\u001b[38;5;124;43mprueba_1\u001b[39;49m\u001b[38;5;124;43m\"\u001b[39;49m\u001b[43m)\u001b[49m\n",
      "File \u001b[1;32mc:\\Users\\15-dy2057\\OneDrive\\Escritorio\\Python-Prep\\M08_clasesyOOP\\Class_Modulo_7.py:6\u001b[0m, in \u001b[0;36mModulo_7.__init__\u001b[1;34m(self, listado)\u001b[0m\n\u001b[0;32m      4\u001b[0m \u001b[38;5;28;01mif\u001b[39;00m \u001b[38;5;28mtype\u001b[39m(listado) \u001b[38;5;241m!=\u001b[39m \u001b[38;5;28mlist\u001b[39m:\n\u001b[0;32m      5\u001b[0m     \u001b[38;5;28mself\u001b[39m\u001b[38;5;241m.\u001b[39mlistado \u001b[38;5;241m=\u001b[39m []\n\u001b[1;32m----> 6\u001b[0m     \u001b[38;5;28;01mraise\u001b[39;00m \u001b[38;5;167;01mValueError\u001b[39;00m (\u001b[38;5;124m\"\u001b[39m\u001b[38;5;124mEl tipo de datos esperado es una lista de números enteros\u001b[39m\u001b[38;5;124m\"\u001b[39m)\n\u001b[0;32m      7\u001b[0m \u001b[38;5;28;01melse\u001b[39;00m:\n\u001b[0;32m      8\u001b[0m     \u001b[38;5;28mself\u001b[39m\u001b[38;5;241m.\u001b[39mlistado \u001b[38;5;241m=\u001b[39m listado\n",
      "\u001b[1;31mValueError\u001b[0m: El tipo de datos esperado es una lista de números enteros"
     ]
    }
   ],
   "source": [
    "operaciones = m7.Modulo_7(\"prueba_1\")\n"
   ]
  },
  {
   "cell_type": "code",
   "execution_count": 86,
   "metadata": {},
   "outputs": [],
   "source": [
    "operaciones_2 = m7.Modulo_7([9,13,4,13,9,5])"
   ]
  },
  {
   "cell_type": "code",
   "execution_count": 87,
   "metadata": {},
   "outputs": [
    {
     "name": "stdout",
     "output_type": "stream",
     "text": [
      "[9, 13, 4, 13, 9, 5]\n",
      "<class 'list'>\n"
     ]
    }
   ],
   "source": [
    "print(operaciones_2.ver_listado())\n",
    "print(type(operaciones_2.ver_listado()))"
   ]
  },
  {
   "attachments": {},
   "cell_type": "markdown",
   "metadata": {},
   "source": [
    "2) En la función que hace la conversión de grados, validar que los parámetros enviados sean los esperados, de no serlo, informar cuáles son los valores esperados."
   ]
  },
  {
   "cell_type": "code",
   "execution_count": 93,
   "metadata": {},
   "outputs": [],
   "source": [
    "operaciones_3 = m7.Modulo_7([0, 8, 10, 31])"
   ]
  },
  {
   "cell_type": "code",
   "execution_count": 94,
   "metadata": {},
   "outputs": [
    {
     "data": {
      "text/plain": [
       "[273.15, 281.15, 283.15, 304.15]"
      ]
     },
     "execution_count": 94,
     "metadata": {},
     "output_type": "execute_result"
    }
   ],
   "source": [
    "operaciones_3.conversion_temperatura(\"C\", \"K\")"
   ]
  },
  {
   "attachments": {},
   "cell_type": "markdown",
   "metadata": {},
   "source": [
    "3) Importar el modulo \"unittest\" y crear los siguientes casos de pruebas sobre la clase utilizada en el punto 2<br>\n",
    "Creacion del objeto incorrecta<br>\n",
    "Creacion correcta del objeto<br>\n",
    "Metodo valor_modal()<br>\n",
    "\n",
    "Se puede usar \"raise ValueError()\" en la creación de la clase para verificar el error. Investigar sobre esta funcionalidad."
   ]
  },
  {
   "cell_type": "code",
   "execution_count": 95,
   "metadata": {},
   "outputs": [],
   "source": [
    "import unittest"
   ]
  },
  {
   "cell_type": "code",
   "execution_count": 99,
   "metadata": {},
   "outputs": [],
   "source": [
    "class Casos_de_prueba (unittest.TestCase):\n",
    "\n",
    "    def test_creacion_incorrecta (self):\n",
    "        parametro = \"prueba_2\"\n",
    "        self.assertRaises (ValueError, m7.Modulo_7, parametro)\n",
    "\n",
    "    def test_creacion_correcta (self):\n",
    "        parametro = [3, 4, 1, 6, 4]\n",
    "        objeto    = m7.Modulo_7(parametro)\n",
    "        self.assertEqual (objeto.listado, parametro, \"Se esperaba que las listas fueran iguales\")\n",
    "    \n",
    "    def test_valor_modal (self):\n",
    "        lista              = [3, 4, 1, 6, 4]\n",
    "        objeto             = m7.Modulo_7(lista)\n",
    "        resultado_esperado = (4, 2)\n",
    "        resultado_obtenido = objeto.valor_modal()\n",
    "        self.assertEqual (resultado_obtenido, resultado_esperado, \"Se esperaba que las tuplas fueran iguales\")"
   ]
  },
  {
   "cell_type": "code",
   "execution_count": 103,
   "metadata": {},
   "outputs": [
    {
     "name": "stderr",
     "output_type": "stream",
     "text": [
      "test_creacion_correcta (__main__.Casos_de_prueba) ... ok\n",
      "test_creacion_incorrecta (__main__.Casos_de_prueba) ... ok\n",
      "test_valor_modal (__main__.Casos_de_prueba) ... ok\n",
      "\n",
      "----------------------------------------------------------------------\n",
      "Ran 3 tests in 0.005s\n",
      "\n",
      "OK\n"
     ]
    },
    {
     "data": {
      "text/plain": [
       "<unittest.main.TestProgram at 0x1383935c160>"
      ]
     },
     "execution_count": 103,
     "metadata": {},
     "output_type": "execute_result"
    }
   ],
   "source": [
    "unittest.main(argv=[''], verbosity=2, exit=False)"
   ]
  },
  {
   "attachments": {},
   "cell_type": "markdown",
   "metadata": {},
   "source": [
    "4) Probar una creación incorrecta y visualizar la salida del \"raise\""
   ]
  },
  {
   "cell_type": "code",
   "execution_count": 107,
   "metadata": {},
   "outputs": [
    {
     "ename": "ValueError",
     "evalue": "El tipo de datos esperado es una lista de números enteros",
     "output_type": "error",
     "traceback": [
      "\u001b[1;31m---------------------------------------------------------------------------\u001b[0m",
      "\u001b[1;31mValueError\u001b[0m                                Traceback (most recent call last)",
      "Cell \u001b[1;32mIn[107], line 1\u001b[0m\n\u001b[1;32m----> 1\u001b[0m operaciones4 \u001b[38;5;241m=\u001b[39m \u001b[43mm7\u001b[49m\u001b[38;5;241;43m.\u001b[39;49m\u001b[43mModulo_7\u001b[49m\u001b[43m(\u001b[49m\u001b[38;5;124;43m\"\u001b[39;49m\u001b[38;5;124;43mcadena\u001b[39;49m\u001b[38;5;124;43m\"\u001b[39;49m\u001b[43m)\u001b[49m\n",
      "File \u001b[1;32mc:\\Users\\15-dy2057\\OneDrive\\Escritorio\\Python-Prep\\M08_clasesyOOP\\Class_Modulo_7.py:6\u001b[0m, in \u001b[0;36mModulo_7.__init__\u001b[1;34m(self, listado)\u001b[0m\n\u001b[0;32m      4\u001b[0m \u001b[38;5;28;01mif\u001b[39;00m \u001b[38;5;28mtype\u001b[39m(listado) \u001b[38;5;241m!=\u001b[39m \u001b[38;5;28mlist\u001b[39m:\n\u001b[0;32m      5\u001b[0m     \u001b[38;5;28mself\u001b[39m\u001b[38;5;241m.\u001b[39mlistado \u001b[38;5;241m=\u001b[39m []\n\u001b[1;32m----> 6\u001b[0m     \u001b[38;5;28;01mraise\u001b[39;00m \u001b[38;5;167;01mValueError\u001b[39;00m (\u001b[38;5;124m\"\u001b[39m\u001b[38;5;124mEl tipo de datos esperado es una lista de números enteros\u001b[39m\u001b[38;5;124m\"\u001b[39m)\n\u001b[0;32m      7\u001b[0m \u001b[38;5;28;01melse\u001b[39;00m:\n\u001b[0;32m      8\u001b[0m     \u001b[38;5;28mself\u001b[39m\u001b[38;5;241m.\u001b[39mlistado \u001b[38;5;241m=\u001b[39m listado\n",
      "\u001b[1;31mValueError\u001b[0m: El tipo de datos esperado es una lista de números enteros"
     ]
    }
   ],
   "source": [
    "operaciones4 = m7.Modulo_7(\"cadena\")"
   ]
  },
  {
   "attachments": {},
   "cell_type": "markdown",
   "metadata": {},
   "source": [
    "6) Agregar casos de pruebas para el método verifica_primos() realizando el cambio en la clase, para que devuelva una lista de True o False en función de que el elemento en la posisicón sea o no primo"
   ]
  },
  {
   "cell_type": "code",
   "execution_count": 117,
   "metadata": {},
   "outputs": [],
   "source": [
    "verifica_primos = m7.Modulo_7([2, 5, 8, 10, 4, 1])"
   ]
  },
  {
   "cell_type": "code",
   "execution_count": 129,
   "metadata": {},
   "outputs": [],
   "source": [
    "class Test_verifica_primos(unittest.TestCase):\n",
    "    \n",
    "    def test_error_tipo_dato (self):\n",
    "        lista_numeros = \"numero primo\"\n",
    "        self.assertRaises (ValueError, m7.Modulo_7, lista_numeros)\n",
    "    \n",
    "    def test_error_tipo_2 (self):\n",
    "        lista_numeros = [2, 5, 0, 4.3, 10, \"hola\"]\n",
    "        self.assertRaises (ValueError, m7.Modulo_7, lista_numeros)\n",
    "    \n",
    "    def test_verificacion_correcta (self):\n",
    "        lista_numeros  = [1, 6, 3, 11, 4]\n",
    "        lista_primos   = m7.Modulo_7(lista_numeros)\n",
    "        lista_esperada = [False, False, True, True, False]\n",
    "        lista_obtenida = lista_primos.numero_primo()\n",
    "        self.assertEqual(lista_obtenida, lista_esperada, \"Se esperaba que las listas fueran iguales\")"
   ]
  },
  {
   "cell_type": "code",
   "execution_count": 130,
   "metadata": {},
   "outputs": [
    {
     "name": "stderr",
     "output_type": "stream",
     "text": [
      "test_creacion_correcta (__main__.Casos_de_prueba) ... ok\n",
      "test_creacion_incorrecta (__main__.Casos_de_prueba) ... ok\n",
      "test_valor_modal (__main__.Casos_de_prueba) ... ok\n",
      "test_error_tipo_2 (__main__.Test_verifica_primos) ... ok\n",
      "test_error_tipo_dato (__main__.Test_verifica_primos) ... ok\n",
      "test_verificacion_correcta (__main__.Test_verifica_primos) ... ok\n",
      "\n",
      "----------------------------------------------------------------------\n",
      "Ran 6 tests in 0.006s\n",
      "\n",
      "OK\n"
     ]
    },
    {
     "data": {
      "text/plain": [
       "<unittest.main.TestProgram at 0x13837ecba90>"
      ]
     },
     "execution_count": 130,
     "metadata": {},
     "output_type": "execute_result"
    }
   ],
   "source": [
    "unittest.main(argv=[''], verbosity=2, exit = False)"
   ]
  },
  {
   "attachments": {},
   "cell_type": "markdown",
   "metadata": {},
   "source": [
    "7) Agregar casos de pruebas para el método conversion_grados()"
   ]
  },
  {
   "cell_type": "code",
   "execution_count": 155,
   "metadata": {},
   "outputs": [
    {
     "data": {
      "text/plain": [
       "<module 'Class_Modulo_7' from 'c:\\\\Users\\\\15-dy2057\\\\OneDrive\\\\Escritorio\\\\Python-Prep\\\\M08_clasesyOOP\\\\Class_Modulo_7.py'>"
      ]
     },
     "execution_count": 155,
     "metadata": {},
     "output_type": "execute_result"
    }
   ],
   "source": [
    "reload(m7)"
   ]
  },
  {
   "cell_type": "code",
   "execution_count": 149,
   "metadata": {},
   "outputs": [],
   "source": [
    "class Test_conversion_grados (unittest.TestCase):\n",
    "    \n",
    "    def test_conversion_temperatura(self):\n",
    "        lista_temperaturas    = [0, 10, 20, 30]\n",
    "        objeto_temperaturas   = m7.Modulo_7(lista_temperaturas)\n",
    "        resultado_conversion  = objeto_temperaturas.conversion_temperatura(\"C\", \"K\")\n",
    "        conversion_esperada   = [273.15, 283.15, 293.15, 303.15]\n",
    "        self.assertEqual (resultado_conversion, conversion_esperada, \"Las listas son diferentes\")    "
   ]
  },
  {
   "cell_type": "code",
   "execution_count": 150,
   "metadata": {},
   "outputs": [
    {
     "name": "stderr",
     "output_type": "stream",
     "text": [
      "test_creacion_correcta (__main__.Casos_de_prueba) ... ok\n",
      "test_creacion_incorrecta (__main__.Casos_de_prueba) ... ok\n",
      "test_valor_modal (__main__.Casos_de_prueba) ... ok\n",
      "test_conversion_temperatura (__main__.Test_conversion_grados) ... ok\n",
      "test_error_tipo_2 (__main__.Test_verifica_primos) ... ok\n",
      "test_error_tipo_dato (__main__.Test_verifica_primos) ... ok\n",
      "test_verificacion_correcta (__main__.Test_verifica_primos) ... ok\n",
      "\n",
      "----------------------------------------------------------------------\n",
      "Ran 7 tests in 0.005s\n",
      "\n",
      "OK\n"
     ]
    },
    {
     "data": {
      "text/plain": [
       "<unittest.main.TestProgram at 0x13837ec8b50>"
      ]
     },
     "execution_count": 150,
     "metadata": {},
     "output_type": "execute_result"
    }
   ],
   "source": [
    "unittest.main(argv=[\"\"], verbosity= 2, exit= False)"
   ]
  },
  {
   "attachments": {},
   "cell_type": "markdown",
   "metadata": {},
   "source": [
    "8) Agregar casos de pruebas para el método factorial()"
   ]
  },
  {
   "cell_type": "code",
   "execution_count": 165,
   "metadata": {},
   "outputs": [],
   "source": [
    "class Test_Factorial (unittest.TestCase):\n",
    "\n",
    "    def test_factorial(self):\n",
    "        lista          = [0, 1, 2, 3, 5]\n",
    "        obj_factor     = m7.Modulo_7(lista)\n",
    "        fact_obtenidos = obj_factor.factorial() \n",
    "        fact_esperados = [1, 1, 2, 6, 120]\n",
    "        self.assertEqual (fact_obtenidos, fact_esperados, \"Las listas presentan diferencias en sus elementos\")"
   ]
  },
  {
   "cell_type": "code",
   "execution_count": 169,
   "metadata": {},
   "outputs": [
    {
     "name": "stderr",
     "output_type": "stream",
     "text": [
      "test_creacion_correcta (__main__.Casos_de_prueba) ... ok\n",
      "test_creacion_incorrecta (__main__.Casos_de_prueba) ... ok\n",
      "test_valor_modal (__main__.Casos_de_prueba) ... ok\n",
      "test_factorial (__main__.Test_Factorial) ... ok\n",
      "test_conversion_temperatura (__main__.Test_conversion_grados) ... ok\n",
      "test_error_tipo_2 (__main__.Test_verifica_primos) ... ok\n",
      "test_error_tipo_dato (__main__.Test_verifica_primos) ... ok\n",
      "test_verificacion_correcta (__main__.Test_verifica_primos) ... ok\n",
      "\n",
      "----------------------------------------------------------------------\n",
      "Ran 8 tests in 0.010s\n",
      "\n",
      "OK\n"
     ]
    },
    {
     "data": {
      "text/plain": [
       "<unittest.main.TestProgram at 0x138394b0e50>"
      ]
     },
     "execution_count": 169,
     "metadata": {},
     "output_type": "execute_result"
    }
   ],
   "source": [
    "unittest.main(argv=[\"\"], verbosity=2, exit=False)"
   ]
  }
 ],
 "metadata": {
  "interpreter": {
   "hash": "c85384e4cb51c8b72350f3a8712cc8351fdc3955e32a27f9b60c6242ab125f01"
  },
  "kernelspec": {
   "display_name": "Python 3 (ipykernel)",
   "language": "python",
   "name": "python3"
  },
  "language_info": {
   "codemirror_mode": {
    "name": "ipython",
    "version": 3
   },
   "file_extension": ".py",
   "mimetype": "text/x-python",
   "name": "python",
   "nbconvert_exporter": "python",
   "pygments_lexer": "ipython3",
   "version": "3.10.0"
  }
 },
 "nbformat": 4,
 "nbformat_minor": 4
}
