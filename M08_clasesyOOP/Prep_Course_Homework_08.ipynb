{
 "cells": [
  {
   "attachments": {},
   "cell_type": "markdown",
   "metadata": {},
   "source": [
    "## Clases y Programación Orientada a Objetos"
   ]
  },
  {
   "attachments": {},
   "cell_type": "markdown",
   "metadata": {},
   "source": [
    "1) Crear la clase vehículo que contenga los atributos:<br>\n",
    "Color<br>\n",
    "Si es moto, auto, camioneta ó camión<br>\n",
    "Cilindrada del motor"
   ]
  },
  {
   "cell_type": "code",
   "execution_count": 99,
   "metadata": {},
   "outputs": [],
   "source": [
    "class Vehiculo:\n",
    "    def __init__ (self, color, tipo, cilindrada):\n",
    "        self.color      = color\n",
    "        self.tipo       = tipo\n",
    "        self.cilindrada = cilindrada"
   ]
  },
  {
   "attachments": {},
   "cell_type": "markdown",
   "metadata": {},
   "source": [
    "2) A la clase Vehiculo creada en el punto 1, agregar los siguientes métodos:<br>\n",
    "Acelerar<br>\n",
    "Frenar<br>\n",
    "Doblar<br>"
   ]
  },
  {
   "cell_type": "code",
   "execution_count": 100,
   "metadata": {},
   "outputs": [],
   "source": [
    "class Vehiculo:\n",
    "    def __init__ (self, color, tipo, cilindrada):\n",
    "        self.color      = color\n",
    "        self.tipo       = tipo\n",
    "        self.cilindrada = cilindrada\n",
    "        self.velocidad  = 0\n",
    "        self.direccion  = \"\" #Solo tendrá encuenta los giros a la derecha e izquierda\n",
    "\n",
    "    def Acelerar (self, acelerar):\n",
    "        self.velocidad += acelerar\n",
    "    \n",
    "    def Frenar (self, desacelerar):\n",
    "        self.velocidad -= desacelerar\n",
    "    \n",
    "    def Doblar (self, ruta):\n",
    "        self.direccion = \"gira a la\", ruta"
   ]
  },
  {
   "attachments": {},
   "cell_type": "markdown",
   "metadata": {},
   "source": [
    "3) Instanciar 3 objetos de la clase vehículo y ejecutar sus métodos, probar luego el resultado"
   ]
  },
  {
   "cell_type": "code",
   "execution_count": 111,
   "metadata": {},
   "outputs": [],
   "source": [
    "ducati = Vehiculo(\"Negro\", \"Moto\", \"500 cc\")\n",
    "logan  = Vehiculo(\"Gris Estrella\", \"Auto\", 1.6)\n",
    "prado  = Vehiculo(\"Roja\", \"Camioneta\", 2.7)"
   ]
  },
  {
   "cell_type": "code",
   "execution_count": 112,
   "metadata": {},
   "outputs": [],
   "source": [
    "ducati.Acelerar(60)\n",
    "ducati.Frenar(20)\n",
    "ducati.Doblar(\"derecha\")\n",
    "\n",
    "logan.Acelerar(50)\n",
    "\n",
    "prado.Doblar(\"izquierda\")\n",
    "\n",
    "#No se muestran resultados porque los métodos no retornan ningún valor"
   ]
  },
  {
   "attachments": {},
   "cell_type": "markdown",
   "metadata": {},
   "source": [
    "4) Agregar a la clase Vehiculo, un método que muestre su estado, es decir, a que velocidad se encuentra y su dirección. Y otro método que muestre color, tipo y cilindrada"
   ]
  },
  {
   "cell_type": "code",
   "execution_count": 110,
   "metadata": {},
   "outputs": [],
   "source": [
    "class Vehiculo:\n",
    "    def __init__ (self, color, tipo, cilindrada):\n",
    "        self.color      = color\n",
    "        self.tipo       = tipo\n",
    "        self.cilindrada = cilindrada\n",
    "        self.velocidad  = 0\n",
    "        self.direccion  = \"\" #Solo tendrá encuenta los giros a la derecha e izquierda\n",
    "\n",
    "    def Acelerar (self, acelerar):\n",
    "        self.velocidad += acelerar\n",
    "    \n",
    "    def Frenar (self, desacelerar):\n",
    "        self.velocidad -= desacelerar\n",
    "    \n",
    "    def Doblar (self, ruta):\n",
    "        self.direccion = ruta\n",
    "    \n",
    "    def Estado (self):\n",
    "        print (\"El vehículo de tipo\", self.tipo, \"viaja a una velocidad de\", self.velocidad, \"Km/h y giró hacia la\", self.direccion)\n",
    "    \n",
    "    def Caracteristicas (self):\n",
    "        print (\"El vehículo de tipo\", self.tipo, \"es de color\", self.color, \"y tiene una cilindrada de\", self.cilindrada)"
   ]
  },
  {
   "cell_type": "code",
   "execution_count": 113,
   "metadata": {},
   "outputs": [
    {
     "name": "stdout",
     "output_type": "stream",
     "text": [
      "El vehículo de tipo Moto viaja a una velocidad de 40 Km/h y giró hacia la derecha\n"
     ]
    }
   ],
   "source": [
    "ducati.Estado()"
   ]
  },
  {
   "cell_type": "code",
   "execution_count": 114,
   "metadata": {},
   "outputs": [
    {
     "name": "stdout",
     "output_type": "stream",
     "text": [
      "El vehículo de tipo Moto es de color Negro y tiene una cilindrada de 500 cc\n"
     ]
    }
   ],
   "source": [
    "ducati.Caracteristicas()"
   ]
  },
  {
   "attachments": {},
   "cell_type": "markdown",
   "metadata": {},
   "source": [
    "5) Crear una clase que permita utilizar las funciones creadas en la práctica del módulo 7<br>\n",
    "Verificar Primo<br>\n",
    "Valor modal<br>\n",
    "Conversión grados<br>\n",
    "Factorial<br>"
   ]
  },
  {
   "cell_type": "code",
   "execution_count": 1,
   "metadata": {},
   "outputs": [],
   "source": [
    "class Ejercicio_5:\n",
    "\n",
    "    def __init__(self):\n",
    "        pass\n",
    "        \n",
    "    \n",
    "    #Método para Verificar Números Primos \n",
    "    def numero_primo (self, numero):\n",
    "        validador = 1\n",
    "        \n",
    "        for divisor in range (2, numero):\n",
    "            if numero % divisor == 0:\n",
    "                validador = 0\n",
    "                break\n",
    "                            \n",
    "        if validador == 1:\n",
    "            es_primo = True\n",
    "        else:\n",
    "            es_primo = False\n",
    "        \n",
    "        if numero == 0 or numero == 1:\n",
    "            es_primo = False\n",
    "        return es_primo\n",
    "    \n",
    "    #Método para valor modal\n",
    "    def Valor_Modal (self, lista_numeros):\n",
    "        elementos_unicos   = list(set(lista_numeros))\n",
    "        dicc_mas_repetidos = {}\n",
    "\n",
    "        if len(lista_numeros) == 0:\n",
    "            print(\"La lista está vacía\")\n",
    "\n",
    "        for elemento in elementos_unicos:\n",
    "            dicc_mas_repetidos [elemento] = lista_numeros.count(elemento)\n",
    "            mas_repetido                  = max(dicc_mas_repetidos, key = dicc_mas_repetidos.get)\n",
    "            cant_repeticiones             = max(dicc_mas_repetidos.values())\n",
    "\n",
    "        return (mas_repetido, cant_repeticiones)\n",
    "    \n",
    "    \n",
    "    #Método para conversión grados\n",
    "    def conversion_temperatura (self, valor, medida_origen, medida_destino):\n",
    "   \n",
    "        if medida_origen == \"C\" and medida_destino == \"F\":\n",
    "            conversion_temp  = (valor * (9/5)) + 32\n",
    "\n",
    "        elif medida_origen == \"C\" and medida_destino == \"K\":\n",
    "            conversion_temp = valor + 273.15\n",
    "\n",
    "        elif medida_origen == \"F\" and medida_destino == \"C\":\n",
    "            conversion_temp = (valor - 32) * (5 / 9)\n",
    "\n",
    "        elif medida_origen == \"F\" and medida_destino == \"K\":\n",
    "            conversion_temp = ((valor - 32) * 5/9) + 273.15\n",
    "\n",
    "        elif medida_origen == \"K\" and medida_destino == \"C\":\n",
    "            conversion_temp = valor - 273.15\n",
    "\n",
    "        elif medida_origen == \"K\" and medida_destino == \"F\":\n",
    "            conversion_temp = ((valor - 273.15) * (9/5)) + 32\n",
    "\n",
    "        elif medida_origen == medida_destino:\n",
    "            conversion_temp = valor\n",
    "    \n",
    "        else:\n",
    "            return \"Los parámetros ingresados no son correctos\"\n",
    "\n",
    "        return conversion_temp\n",
    "    \n",
    "    \n",
    "    #Método para calcular el Factorial de un número\n",
    "    def factorial (self, numero_fact):\n",
    "    \n",
    "        if type(numero_fact) != int:\n",
    "            return \"Debe ingresar un número entero\"\n",
    "        \n",
    "        if numero_fact > 1:\n",
    "            fact = numero_fact * self.factorial (numero_fact - 1)\n",
    "            return fact\n",
    "        \n",
    "        if numero_fact == 1 or numero_fact == 0:\n",
    "            fact = 1\n",
    "            return fact\n",
    "        \n",
    "        if numero_fact < 0:\n",
    "            return \"Debe ingresar un número entero positivo\""
   ]
  },
  {
   "attachments": {},
   "cell_type": "markdown",
   "metadata": {},
   "source": [
    "6) Probar las funciones incorporadas en la clase del punto 5"
   ]
  },
  {
   "cell_type": "code",
   "execution_count": 2,
   "metadata": {},
   "outputs": [],
   "source": [
    "objeto_ejercicio5 = Ejercicio_5()"
   ]
  },
  {
   "cell_type": "code",
   "execution_count": 3,
   "metadata": {},
   "outputs": [
    {
     "data": {
      "text/plain": [
       "293.15"
      ]
     },
     "execution_count": 3,
     "metadata": {},
     "output_type": "execute_result"
    }
   ],
   "source": [
    "objeto_ejercicio5.conversion_temperatura(20, \"C\", \"K\")"
   ]
  },
  {
   "cell_type": "code",
   "execution_count": 4,
   "metadata": {},
   "outputs": [
    {
     "data": {
      "text/plain": [
       "(6, 3)"
      ]
     },
     "execution_count": 4,
     "metadata": {},
     "output_type": "execute_result"
    }
   ],
   "source": [
    "objeto_ejercicio5.Valor_Modal([6,6,6,9,10,7,0,4])"
   ]
  },
  {
   "cell_type": "code",
   "execution_count": 5,
   "metadata": {},
   "outputs": [
    {
     "data": {
      "text/plain": [
       "120"
      ]
     },
     "execution_count": 5,
     "metadata": {},
     "output_type": "execute_result"
    }
   ],
   "source": [
    "objeto_ejercicio5.factorial(5)"
   ]
  },
  {
   "attachments": {},
   "cell_type": "markdown",
   "metadata": {},
   "source": [
    "7) Es necesario que la clase creada en el punto 5 contenga una lista, sobre la cual se apliquen las funciones incorporadas"
   ]
  },
  {
   "cell_type": "code",
   "execution_count": 115,
   "metadata": {},
   "outputs": [],
   "source": [
    "class Modulo_7:\n",
    "\n",
    "    def __init__(self, listado):\n",
    "        self.listado = listado\n",
    "        \n",
    "    #BLOQUE DE CÓDIGO PARA REVISAR SI CADA ELEMENTO DE LA LISTA ES NÚMERO PRIMO\n",
    "    #Método para Verificar Números Primos \n",
    "    def __numero_primo (self, numero):\n",
    "        validador = 1\n",
    "        \n",
    "        for divisor in range (2, numero):\n",
    "            if numero % divisor == 0:\n",
    "                validador = 0\n",
    "                break\n",
    "                            \n",
    "        if validador == 1:\n",
    "            es_primo = True\n",
    "        else:\n",
    "            es_primo = False\n",
    "        \n",
    "        if numero == 0 or numero == 1:\n",
    "            es_primo = False\n",
    "        return es_primo\n",
    "    \n",
    "    # Método para llamar al método privado __numero_primo\n",
    "    def numero_primo (self):\n",
    "        for i in self.listado:\n",
    "            if self.__numero_primo(i):\n",
    "                print (i, \"es número primo\")\n",
    "            else:\n",
    "                print (i, \"no es número primo\")\n",
    "\n",
    "\n",
    "    #BLOQUE DE CÓDIGO PARA OBTENER EL VALOR MODAL\n",
    "    #Método para valor modal\n",
    "    def __Valor_Modal (self, lista_numeros):\n",
    "        elementos_unicos   = list(set(lista_numeros))\n",
    "        dicc_mas_repetidos = {}\n",
    "\n",
    "        if len(lista_numeros) == 0:\n",
    "            print(\"La lista está vacía\")\n",
    "\n",
    "        for elemento in elementos_unicos:\n",
    "            dicc_mas_repetidos [elemento] = lista_numeros.count(elemento)\n",
    "            mas_repetido                  = max(dicc_mas_repetidos, key = dicc_mas_repetidos.get)\n",
    "            cant_repeticiones             = max(dicc_mas_repetidos.values())\n",
    "\n",
    "        return (mas_repetido, cant_repeticiones)\n",
    "    \n",
    "    #Método para llamar el método privado de valor modal\n",
    "    def valor_modal(self):\n",
    "        moda, cant_repeticiones = self.__Valor_Modal(self.listado)\n",
    "        print (\"El valor modal es\", moda, \"con\", cant_repeticiones, \"repeticiones\")\n",
    "    \n",
    "\n",
    "    #BLOQUE DE CÓDIGO PARA HACER CONVERSIONES DE MEDIDAS DE TEMPERATURA\n",
    "    #Método para conversión grados\n",
    "    def __conversion_temperatura (self, valor, medida_origen, medida_destino):\n",
    "   \n",
    "        if medida_origen == \"C\" and medida_destino == \"F\":\n",
    "            conversion_temp  = (valor * (9/5)) + 32\n",
    "\n",
    "        elif medida_origen == \"C\" and medida_destino == \"K\":\n",
    "            conversion_temp = valor + 273.15\n",
    "\n",
    "        elif medida_origen == \"F\" and medida_destino == \"C\":\n",
    "            conversion_temp = (valor - 32) * (5 / 9)\n",
    "\n",
    "        elif medida_origen == \"F\" and medida_destino == \"K\":\n",
    "            conversion_temp = ((valor - 32) * 5/9) + 273.15\n",
    "\n",
    "        elif medida_origen == \"K\" and medida_destino == \"C\":\n",
    "            conversion_temp = valor - 273.15\n",
    "\n",
    "        elif medida_origen == \"K\" and medida_destino == \"F\":\n",
    "            conversion_temp = ((valor - 273.15) * (9/5)) + 32\n",
    "\n",
    "        elif medida_origen == medida_destino:\n",
    "            conversion_temp = valor\n",
    "    \n",
    "        else:\n",
    "            return \"Los parámetros ingresados no son correctos\"\n",
    "\n",
    "        return conversion_temp\n",
    "    \n",
    "    # Método para llamar al método privado __conversion_temperatura\n",
    "    def conversion_temperatura (self, medida_origen, medida_destino):\n",
    "        for k in self.listado:\n",
    "            print (k, \"°\", medida_origen, \"es igual a\", self.__conversion_temperatura(k, medida_origen, medida_destino), \"°\", medida_destino)\n",
    "    \n",
    "\n",
    "    #BLOQUE DE CÓDIGO PARA CALCULAR EL FACTORIAL DE CADA ELEMENTO DE LA LISTA\n",
    "    #Método para calcular el Factorial de un número\n",
    "    def __factorial (self, numero_fact):\n",
    "    \n",
    "        if type(numero_fact) != int:\n",
    "            return \"Debe ingresar un número entero\"\n",
    "        \n",
    "        if numero_fact > 1:\n",
    "            fact = numero_fact * self.__factorial (numero_fact - 1)\n",
    "            return fact\n",
    "        \n",
    "        if numero_fact == 1 or numero_fact == 0:\n",
    "            fact = 1\n",
    "            return fact\n",
    "        \n",
    "        if numero_fact < 0:\n",
    "            return \"Debe ingresar un número entero positivo\"\n",
    "        \n",
    "    \n",
    "    # Método para llamar al método privado __factorial\n",
    "    def factorial (self):\n",
    "        for j in self.listado:\n",
    "            factorial_j = self.__factorial(j)\n",
    "            print (\"El factorial de\", j, \"es\", factorial_j)"
   ]
  },
  {
   "cell_type": "code",
   "execution_count": 116,
   "metadata": {},
   "outputs": [],
   "source": [
    "lista_homework = Modulo_7([9,15,33,70,9,23,9])"
   ]
  },
  {
   "cell_type": "code",
   "execution_count": 117,
   "metadata": {},
   "outputs": [
    {
     "name": "stdout",
     "output_type": "stream",
     "text": [
      "9 ° C es igual a 282.15 ° K\n",
      "15 ° C es igual a 288.15 ° K\n",
      "33 ° C es igual a 306.15 ° K\n",
      "70 ° C es igual a 343.15 ° K\n",
      "9 ° C es igual a 282.15 ° K\n",
      "23 ° C es igual a 296.15 ° K\n",
      "9 ° C es igual a 282.15 ° K\n"
     ]
    }
   ],
   "source": [
    "lista_homework.conversion_temperatura(\"C\",\"K\")"
   ]
  },
  {
   "cell_type": "code",
   "execution_count": 118,
   "metadata": {},
   "outputs": [
    {
     "name": "stdout",
     "output_type": "stream",
     "text": [
      "El factorial de 9 es 362880\n",
      "El factorial de 15 es 1307674368000\n",
      "El factorial de 33 es 8683317618811886495518194401280000000\n",
      "El factorial de 70 es 11978571669969891796072783721689098736458938142546425857555362864628009582789845319680000000000000000\n",
      "El factorial de 9 es 362880\n",
      "El factorial de 23 es 25852016738884976640000\n",
      "El factorial de 9 es 362880\n"
     ]
    }
   ],
   "source": [
    "lista_homework.factorial()"
   ]
  },
  {
   "cell_type": "code",
   "execution_count": 119,
   "metadata": {},
   "outputs": [
    {
     "name": "stdout",
     "output_type": "stream",
     "text": [
      "9 no es número primo\n",
      "15 no es número primo\n",
      "33 no es número primo\n",
      "70 no es número primo\n",
      "9 no es número primo\n",
      "23 es número primo\n",
      "9 no es número primo\n"
     ]
    }
   ],
   "source": [
    "lista_homework.numero_primo()"
   ]
  },
  {
   "cell_type": "code",
   "execution_count": 120,
   "metadata": {},
   "outputs": [
    {
     "name": "stdout",
     "output_type": "stream",
     "text": [
      "El valor modal es 9 con 3 repeticiones\n"
     ]
    }
   ],
   "source": [
    "lista_homework.valor_modal()"
   ]
  },
  {
   "attachments": {},
   "cell_type": "markdown",
   "metadata": {},
   "source": [
    "8) Crear un archivo .py aparte y ubicar allí la clase generada en el punto anterior. Luego realizar la importación del módulo y probar alguna de sus funciones"
   ]
  },
  {
   "cell_type": "code",
   "execution_count": 121,
   "metadata": {},
   "outputs": [],
   "source": [
    "from Class_Modulo_7 import Modulo_7\n",
    "\n",
    "lista_ejercicio_8 = Modulo_7([6,3,11,25,11])"
   ]
  },
  {
   "cell_type": "code",
   "execution_count": 123,
   "metadata": {},
   "outputs": [
    {
     "name": "stdout",
     "output_type": "stream",
     "text": [
      "6 ° C es igual a 42.8 ° F\n",
      "3 ° C es igual a 37.4 ° F\n",
      "11 ° C es igual a 51.8 ° F\n",
      "25 ° C es igual a 77.0 ° F\n",
      "11 ° C es igual a 51.8 ° F\n"
     ]
    }
   ],
   "source": [
    "lista_ejercicio_8.conversion_temperatura(\"C\",\"F\")"
   ]
  },
  {
   "cell_type": "code",
   "execution_count": 124,
   "metadata": {},
   "outputs": [
    {
     "name": "stdout",
     "output_type": "stream",
     "text": [
      "El factorial de 6 es 720\n",
      "El factorial de 3 es 6\n",
      "El factorial de 11 es 39916800\n",
      "El factorial de 25 es 15511210043330985984000000\n",
      "El factorial de 11 es 39916800\n"
     ]
    }
   ],
   "source": [
    "lista_ejercicio_8.factorial()"
   ]
  },
  {
   "cell_type": "code",
   "execution_count": 125,
   "metadata": {},
   "outputs": [
    {
     "name": "stdout",
     "output_type": "stream",
     "text": [
      "6 no es número primo\n",
      "3 es número primo\n",
      "11 es número primo\n",
      "25 no es número primo\n",
      "11 es número primo\n"
     ]
    }
   ],
   "source": [
    "lista_ejercicio_8.numero_primo()"
   ]
  },
  {
   "cell_type": "code",
   "execution_count": 126,
   "metadata": {},
   "outputs": [
    {
     "name": "stdout",
     "output_type": "stream",
     "text": [
      "El valor modal es 11 con 2 repeticiones\n"
     ]
    }
   ],
   "source": [
    "lista_ejercicio_8.valor_modal()"
   ]
  }
 ],
 "metadata": {
  "interpreter": {
   "hash": "c85384e4cb51c8b72350f3a8712cc8351fdc3955e32a27f9b60c6242ab125f01"
  },
  "kernelspec": {
   "display_name": "Python 3 (ipykernel)",
   "language": "python",
   "name": "python3"
  },
  "language_info": {
   "codemirror_mode": {
    "name": "ipython",
    "version": 3
   },
   "file_extension": ".py",
   "mimetype": "text/x-python",
   "name": "python",
   "nbconvert_exporter": "python",
   "pygments_lexer": "ipython3",
   "version": "3.10.0"
  }
 },
 "nbformat": 4,
 "nbformat_minor": 4
}
