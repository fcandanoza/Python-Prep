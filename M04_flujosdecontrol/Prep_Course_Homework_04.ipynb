{
 "cells": [
  {
   "attachments": {},
   "cell_type": "markdown",
   "metadata": {},
   "source": [
    "## Flujos de Control"
   ]
  },
  {
   "attachments": {},
   "cell_type": "markdown",
   "metadata": {},
   "source": [
    "1) Crear una variable que contenga un elemento del conjunto de números enteros y luego imprimir por pantalla si es mayor o menor a cero"
   ]
  },
  {
   "cell_type": "code",
   "execution_count": 3,
   "metadata": {},
   "outputs": [
    {
     "name": "stdout",
     "output_type": "stream",
     "text": [
      "La variable m es mayor que cero\n"
     ]
    }
   ],
   "source": [
    "m = 6\n",
    "\n",
    "if m < 0:\n",
    "    print(\"La variable m es menor que cero\")\n",
    "\n",
    "elif m > 0:\n",
    "    print(\"La variable m es mayor que cero\")\n",
    "\n",
    "else:\n",
    "    print(\"La variable m es igual a cero\")"
   ]
  },
  {
   "attachments": {},
   "cell_type": "markdown",
   "metadata": {},
   "source": [
    "2) Crear dos variables y un condicional que informe si son del mismo tipo de dato"
   ]
  },
  {
   "cell_type": "code",
   "execution_count": 5,
   "metadata": {},
   "outputs": [
    {
     "name": "stdout",
     "output_type": "stream",
     "text": [
      "Las variables son del mismo tipo de dato, el cual es  <class 'str'>\n"
     ]
    }
   ],
   "source": [
    "a = \"H\"\n",
    "b = \"Hola\"\n",
    "\n",
    "if type(a) == type(b):\n",
    "    print (\"Las variables son del mismo tipo de dato, el cual es \", type(a))\n",
    "\n",
    "else:\n",
    "    print (\"Las variables son de tipos de datos diferentes\")"
   ]
  },
  {
   "attachments": {},
   "cell_type": "markdown",
   "metadata": {},
   "source": [
    "3) Para los valores enteros del 1 al 20, imprimir por pantalla si es par o impar"
   ]
  },
  {
   "cell_type": "code",
   "execution_count": 6,
   "metadata": {},
   "outputs": [
    {
     "name": "stdout",
     "output_type": "stream",
     "text": [
      "el número  1 es un número impar\n",
      "el número  2 es un número par\n",
      "el número  3 es un número impar\n",
      "el número  4 es un número par\n",
      "el número  5 es un número impar\n",
      "el número  6 es un número par\n",
      "el número  7 es un número impar\n",
      "el número  8 es un número par\n",
      "el número  9 es un número impar\n",
      "el número  10 es un número par\n",
      "el número  11 es un número impar\n",
      "el número  12 es un número par\n",
      "el número  13 es un número impar\n",
      "el número  14 es un número par\n",
      "el número  15 es un número impar\n",
      "el número  16 es un número par\n",
      "el número  17 es un número impar\n",
      "el número  18 es un número par\n",
      "el número  19 es un número impar\n",
      "el número  20 es un número par\n"
     ]
    }
   ],
   "source": [
    "for i in range (1,21):\n",
    "    if i%2 == 0:\n",
    "        print (\"el número \", i, \"es un número par\")\n",
    "    else:\n",
    "        print (\"el número \", i, \"es un número impar\")"
   ]
  },
  {
   "attachments": {},
   "cell_type": "markdown",
   "metadata": {},
   "source": [
    "4) En un ciclo for mostrar para los valores entre 0 y 5 el resultado de elevarlo a la potencia igual a 3"
   ]
  },
  {
   "cell_type": "code",
   "execution_count": 14,
   "metadata": {},
   "outputs": [
    {
     "name": "stdout",
     "output_type": "stream",
     "text": [
      "Cuando el número  0 se eleva a la potencia 3 da como resultado  0\n",
      "Cuando el número  1 se eleva a la potencia 3 da como resultado  1\n",
      "Cuando el número  2 se eleva a la potencia 3 da como resultado  8\n",
      "Cuando el número  3 se eleva a la potencia 3 da como resultado  27\n",
      "Cuando el número  4 se eleva a la potencia 3 da como resultado  64\n",
      "Cuando el número  5 se eleva a la potencia 3 da como resultado  125\n"
     ]
    }
   ],
   "source": [
    "for numero in range (0,6):\n",
    "    potencia = numero**3\n",
    "    print (\"Cuando el número \", numero, \"se eleva a la potencia 3 da como resultado \", potencia)"
   ]
  },
  {
   "attachments": {},
   "cell_type": "markdown",
   "metadata": {},
   "source": [
    "5) Crear una variable que contenga un número entero y realizar un ciclo for la misma cantidad de ciclos"
   ]
  },
  {
   "cell_type": "code",
   "execution_count": 11,
   "metadata": {},
   "outputs": [
    {
     "name": "stdout",
     "output_type": "stream",
     "text": [
      "0\n",
      "1\n",
      "2\n",
      "3\n",
      "4\n"
     ]
    }
   ],
   "source": [
    "x = 5\n",
    "for i in range (0,x):\n",
    "    print(i) "
   ]
  },
  {
   "attachments": {},
   "cell_type": "markdown",
   "metadata": {},
   "source": [
    "6) Utilizar un ciclo while para realizar el factorial de un número guardado en una variable, sólo si la variable contiene un número entero mayor a 0"
   ]
  },
  {
   "cell_type": "code",
   "execution_count": 19,
   "metadata": {},
   "outputs": [
    {
     "name": "stdout",
     "output_type": "stream",
     "text": [
      "La variable no contiene un tipo de dato entero\n"
     ]
    }
   ],
   "source": [
    "f = True\n",
    "\n",
    "if type(f) == int:\n",
    "    if f > 0:\n",
    "        factorial = f\n",
    "        while f > 2:\n",
    "            f = f -1\n",
    "            factorial = factorial * f\n",
    "        print (\"El factorial del número es: \", factorial)\n",
    "    else:\n",
    "        print (\"el número no es mayor que cero\")\n",
    "else:\n",
    "    print (\"La variable no contiene un tipo de dato entero\")\n",
    "\n"
   ]
  },
  {
   "attachments": {},
   "cell_type": "markdown",
   "metadata": {},
   "source": [
    "7) Crear un ciclo for dentro de un ciclo while"
   ]
  },
  {
   "cell_type": "code",
   "execution_count": 42,
   "metadata": {},
   "outputs": [
    {
     "name": "stdout",
     "output_type": "stream",
     "text": [
      "0\n",
      "1\n",
      "3\n",
      "6\n",
      "10\n",
      "15\n",
      "21\n",
      "28\n",
      "36\n",
      "45\n"
     ]
    }
   ],
   "source": [
    "flag = True\n",
    "a = 0\n",
    "\n",
    "while flag:\n",
    "    for i in range (0, 10):\n",
    "        a += i\n",
    "        print (a)\n",
    "    break "
   ]
  },
  {
   "attachments": {},
   "cell_type": "markdown",
   "metadata": {},
   "source": [
    "8) Crear un ciclo while dentro de un ciclo for"
   ]
  },
  {
   "cell_type": "code",
   "execution_count": 55,
   "metadata": {},
   "outputs": [
    {
     "name": "stdout",
     "output_type": "stream",
     "text": [
      "5 es multiplo de 5\n",
      "10 es multiplo de 5\n",
      "15 es multiplo de 5\n",
      "20 es multiplo de 5\n",
      "25 es multiplo de 5\n",
      "30 es multiplo de 5\n",
      "35 es multiplo de 5\n",
      "40 es multiplo de 5\n",
      "45 es multiplo de 5\n",
      "50 es multiplo de 5\n"
     ]
    }
   ],
   "source": [
    "for n in range (1, 51):\n",
    "    while n % 5 == 0:\n",
    "        print (n, \"es multiplo de 5\")\n",
    "        break"
   ]
  },
  {
   "attachments": {},
   "cell_type": "markdown",
   "metadata": {},
   "source": [
    "9) Imprimir los números primos existentes entre 0 y 30"
   ]
  },
  {
   "cell_type": "code",
   "execution_count": 51,
   "metadata": {},
   "outputs": [
    {
     "name": "stdout",
     "output_type": "stream",
     "text": [
      "2\n",
      "3\n",
      "5\n",
      "7\n",
      "11\n",
      "13\n",
      "17\n",
      "19\n",
      "23\n",
      "29\n",
      "Cantidad de ciclos:  378\n"
     ]
    }
   ],
   "source": [
    "rango_sup = 30\n",
    "cant_ciclos_v1 = 0\n",
    "for dividendo in range (2, rango_sup):\n",
    "    contador = 0\n",
    "    for divisor in range (2, dividendo):\n",
    "        cant_ciclos_v1 += 1\n",
    "        if dividendo % divisor == 0:\n",
    "            contador += 1\n",
    "            \n",
    "    if contador == 0:\n",
    "        print (dividendo)       \n",
    "print (\"Cantidad de ciclos: \", cant_ciclos_v1)"
   ]
  },
  {
   "attachments": {},
   "cell_type": "markdown",
   "metadata": {},
   "source": [
    "10) ¿Se puede mejorar el proceso del punto 9? Utilizar las sentencias break y/ó continue para tal fin"
   ]
  },
  {
   "cell_type": "code",
   "execution_count": 52,
   "metadata": {},
   "outputs": [
    {
     "name": "stdout",
     "output_type": "stream",
     "text": [
      "2\n",
      "3\n",
      "5\n",
      "7\n",
      "11\n",
      "13\n",
      "17\n",
      "19\n",
      "23\n",
      "29\n",
      "Cantidad de ciclos:  134\n"
     ]
    }
   ],
   "source": [
    "rango_sup = 30\n",
    "cant_ciclos_v2 = 0\n",
    "for dividendo in range (2, rango_sup):\n",
    "    contador = 0\n",
    "    for divisor in range (2, dividendo):\n",
    "        cant_ciclos_v2 += 1\n",
    "        if dividendo % divisor == 0:\n",
    "            contador += 1\n",
    "            break\n",
    "            \n",
    "    if contador == 0:\n",
    "        print (dividendo)     \n",
    "print (\"Cantidad de ciclos: \", cant_ciclos_v2)"
   ]
  },
  {
   "attachments": {},
   "cell_type": "markdown",
   "metadata": {},
   "source": [
    "11) En los puntos 9 y 10, se diseño un código que encuentra números primos y además se lo optimizó. ¿Es posible saber en qué medida se optimizó?"
   ]
  },
  {
   "cell_type": "code",
   "execution_count": null,
   "metadata": {},
   "outputs": [],
   "source": [
    "''' Se realizan menos ciclos porque con el break, basta con encontrar un solo divisor para detener el proceso\n",
    "mientras que en el primer código, se hace la división con todos los divisores posibles'''"
   ]
  },
  {
   "attachments": {},
   "cell_type": "markdown",
   "metadata": {},
   "source": [
    "12) Aplicando continue, armar un ciclo while que solo imprima los valores divisibles por 12, dentro del rango de números de 100 a 300"
   ]
  },
  {
   "cell_type": "code",
   "execution_count": 59,
   "metadata": {},
   "outputs": [
    {
     "name": "stdout",
     "output_type": "stream",
     "text": [
      "108\n",
      "120\n",
      "132\n",
      "144\n",
      "156\n",
      "168\n",
      "180\n",
      "192\n",
      "204\n",
      "216\n",
      "228\n",
      "240\n",
      "252\n",
      "264\n",
      "276\n",
      "288\n",
      "300\n"
     ]
    }
   ],
   "source": [
    "n = 100\n",
    "\n",
    "while n <= 300:\n",
    "    if n % 12 == 0:\n",
    "        print (n)\n",
    "    n += 1"
   ]
  },
  {
   "attachments": {},
   "cell_type": "markdown",
   "metadata": {},
   "source": [
    "13) Utilizar la función **input()** que permite hacer ingresos por teclado, para encontrar números primos y dar la opción al usario de buscar el siguiente"
   ]
  },
  {
   "cell_type": "code",
   "execution_count": 27,
   "metadata": {},
   "outputs": [
    {
     "name": "stdout",
     "output_type": "stream",
     "text": [
      "El número 9 no es un número primo\n"
     ]
    }
   ],
   "source": [
    "numero   = 9\n",
    "contador = 0\n",
    "\n",
    "for i in range (2, numero + 1):\n",
    "    if numero % i == 0:\n",
    "        contador += 1\n",
    "\n",
    "if contador > 1:\n",
    "    print (\"El número\", numero, \"no es un número primo\")\n",
    "else:\n",
    "    print (\"El número\", numero, \"es un número primo\")\n"
   ]
  },
  {
   "attachments": {},
   "cell_type": "markdown",
   "metadata": {},
   "source": [
    "14) Crear un ciclo while que encuentre dentro del rango de 100 a 300 el primer número divisible por 3 y además múltiplo de 6"
   ]
  },
  {
   "cell_type": "code",
   "execution_count": 46,
   "metadata": {},
   "outputs": [
    {
     "name": "stdout",
     "output_type": "stream",
     "text": [
      "102 Es el primer número divisible por 3 y múltiplo de 6\n"
     ]
    }
   ],
   "source": [
    "for n in range (100 , 301):\n",
    "    while n % 3 == 0 and n % 6 == 0:\n",
    "        print (n, \"Es el primer número divisible por 3 y múltiplo de 6\")\n",
    "        break\n",
    "    else:\n",
    "        continue\n",
    "    break   "
   ]
  }
 ],
 "metadata": {
  "interpreter": {
   "hash": "c85384e4cb51c8b72350f3a8712cc8351fdc3955e32a27f9b60c6242ab125f01"
  },
  "kernelspec": {
   "display_name": "Python 3 (ipykernel)",
   "language": "python",
   "name": "python3"
  },
  "language_info": {
   "codemirror_mode": {
    "name": "ipython",
    "version": 3
   },
   "file_extension": ".py",
   "mimetype": "text/x-python",
   "name": "python",
   "nbconvert_exporter": "python",
   "pygments_lexer": "ipython3",
   "version": "3.10.6"
  }
 },
 "nbformat": 4,
 "nbformat_minor": 4
}
