{
 "cells": [
  {
   "attachments": {},
   "cell_type": "markdown",
   "metadata": {},
   "source": [
    "## Funciones"
   ]
  },
  {
   "attachments": {},
   "cell_type": "markdown",
   "metadata": {},
   "source": [
    "1) Crear una función que reciba un número como parámetro y devuelva True si es primo y False si no lo es"
   ]
  },
  {
   "cell_type": "code",
   "execution_count": 109,
   "metadata": {},
   "outputs": [
    {
     "name": "stdout",
     "output_type": "stream",
     "text": [
      "True\n"
     ]
    }
   ],
   "source": [
    "def numero_primo (numero):\n",
    "    validador = 1\n",
    "    \n",
    "    for divisor in range (2, numero):\n",
    "        if numero % divisor == 0:\n",
    "            validador = 0\n",
    "            break\n",
    "                        \n",
    "    if validador == 1:\n",
    "        es_primo = True\n",
    "    else:\n",
    "        es_primo = False\n",
    "    \n",
    "    if numero == 0 or numero == 1:\n",
    "        es_primo = False\n",
    "    return es_primo\n",
    "            \n",
    "print (numero_primo(2))"
   ]
  },
  {
   "attachments": {},
   "cell_type": "markdown",
   "metadata": {},
   "source": [
    "2) Utilizando la función del punto 1, realizar otra función que reciba de parámetro una lista de números y devuelva sólo aquellos que son primos en otra lista"
   ]
  },
  {
   "cell_type": "code",
   "execution_count": 117,
   "metadata": {},
   "outputs": [
    {
     "data": {
      "text/plain": [
       "[2, 3, 5, 7, 11]"
      ]
     },
     "execution_count": 117,
     "metadata": {},
     "output_type": "execute_result"
    }
   ],
   "source": [
    "def lista_solo_primos(lista_numeros):\n",
    "    lista_primos = []\n",
    "    \n",
    "    for elemento in lista_numeros:\n",
    "        if elemento < 2:\n",
    "            continue\n",
    "        \n",
    "        contador = 1\n",
    "        for divisor in range (2, elemento):\n",
    "            if elemento % divisor == 0:\n",
    "                contador = 0\n",
    "                break\n",
    "            else:\n",
    "                contador = 1\n",
    "            \n",
    "        if contador == 1:\n",
    "            lista_primos.append(elemento)\n",
    "        \n",
    "    return (lista_primos)\n",
    "\n",
    "lista_solo_primos ([0, 1, 2, 3, 4, 5, 6, 7, 8, 9, 10, 11])\n"
   ]
  },
  {
   "attachments": {},
   "cell_type": "markdown",
   "metadata": {},
   "source": [
    "3) Crear una función que al recibir una lista de números, devuelva el que más se repite y cuántas veces lo hace. Si hay más de un \"más repetido\", que devuelva cualquiera"
   ]
  },
  {
   "cell_type": "code",
   "execution_count": 213,
   "metadata": {},
   "outputs": [
    {
     "data": {
      "text/plain": [
       "(1, 2)"
      ]
     },
     "execution_count": 213,
     "metadata": {},
     "output_type": "execute_result"
    }
   ],
   "source": [
    "def numero_mas_repetido (lista_numeros):\n",
    "    elementos_unicos   = list(set(lista_numeros))\n",
    "    dicc_mas_repetidos = {}\n",
    "\n",
    "    if len(lista_numeros) == 0:\n",
    "        print(\"La lista está vacía\")\n",
    "\n",
    "    for elemento in elementos_unicos:\n",
    "        dicc_mas_repetidos [elemento] = lista_numeros.count(elemento)\n",
    "        mas_repetido                  = max(dicc_mas_repetidos, key = dicc_mas_repetidos.get)\n",
    "        cant_repeticiones             = max(dicc_mas_repetidos.values())\n",
    "    \n",
    "    return (mas_repetido, cant_repeticiones)\n",
    "\n",
    "numero_mas_repetido ([1, 1, 0, 3])"
   ]
  },
  {
   "attachments": {},
   "cell_type": "markdown",
   "metadata": {},
   "source": [
    "4) Crear una función que convierta entre grados Celsius, Farenheit y Kelvin<br>\n",
    "Fórmula 1\t: (°C × 9/5) + 32 = °F<br>\n",
    "Fórmula 2\t: °C + 273.15 = °K<br>\n",
    "Debe recibir 3 parámetros: el valor, la medida de orígen y la medida de destino\n"
   ]
  },
  {
   "cell_type": "code",
   "execution_count": 210,
   "metadata": {},
   "outputs": [
    {
     "data": {
      "text/plain": [
       "272.0388888888889"
      ]
     },
     "execution_count": 210,
     "metadata": {},
     "output_type": "execute_result"
    }
   ],
   "source": [
    "def conversion_temperatura (valor, medida_origen, medida_destino):\n",
    "   \n",
    "    if medida_origen == \"C\" and medida_destino == \"F\":\n",
    "        conversion_temp  = (valor * (9/5)) + 32\n",
    "        \n",
    "    elif medida_origen == \"C\" and medida_destino == \"K\":\n",
    "        conversion_temp = valor + 273.15\n",
    "        \n",
    "    elif medida_origen == \"F\" and medida_destino == \"C\":\n",
    "        conversion_temp = (valor - 32) * (5 / 9)\n",
    "            \n",
    "    elif medida_origen == \"F\" and medida_destino == \"K\":\n",
    "        conversion_temp = ((valor - 32) * 5/9) + 273.15\n",
    "        \n",
    "    elif medida_origen == \"K\" and medida_destino == \"C\":\n",
    "        conversion_temp = valor - 273.15\n",
    "            \n",
    "    elif medida_origen == \"K\" and medida_destino == \"F\":\n",
    "        conversion_temp = ((valor - 273.15) * (9/5)) + 32\n",
    "            \n",
    "    elif medida_origen == medida_destino:\n",
    "        conversion_temp = valor\n",
    "  \n",
    "    else:\n",
    "        return \"Los parámetros ingresados no son correctos\"\n",
    "    \n",
    "    return conversion_temp\n",
    "\n",
    "conversion_temperatura (30, \"F\", \"K\")"
   ]
  },
  {
   "attachments": {},
   "cell_type": "markdown",
   "metadata": {},
   "source": [
    "5) Iterando una lista con los tres valores posibles de temperatura que recibe la función del punto 5, hacer un print para cada combinación de los mismos:"
   ]
  },
  {
   "cell_type": "code",
   "execution_count": 212,
   "metadata": {},
   "outputs": [
    {
     "name": "stdout",
     "output_type": "stream",
     "text": [
      "La conversión de ° C a ° C da como resultado 20\n",
      "La conversión de ° C a ° F da como resultado 68.0\n",
      "La conversión de ° C a ° K da como resultado 293.15\n",
      "La conversión de ° F a ° C da como resultado -6.666666666666667\n",
      "La conversión de ° F a ° F da como resultado 20\n",
      "La conversión de ° F a ° K da como resultado 266.4833333333333\n",
      "La conversión de ° K a ° C da como resultado -253.14999999999998\n",
      "La conversión de ° K a ° F da como resultado -423.66999999999996\n",
      "La conversión de ° K a ° K da como resultado 20\n"
     ]
    }
   ],
   "source": [
    "lista_temp = [\"C\", \"F\", \"K\"]\n",
    "i          = 0\n",
    "\n",
    "for i in lista_temp:\n",
    "    for j in lista_temp:\n",
    "        print (\"La conversión de °\", i, \"a °\", j, \"da como resultado\", conversion_temperatura(20, i, j))"
   ]
  },
  {
   "attachments": {},
   "cell_type": "markdown",
   "metadata": {},
   "source": [
    "6) Armar una función que devuelva el factorial de un número. Tener en cuenta que el usuario puede equivocarse y enviar de parámetro un número no entero o negativo"
   ]
  },
  {
   "cell_type": "code",
   "execution_count": 244,
   "metadata": {},
   "outputs": [
    {
     "name": "stdout",
     "output_type": "stream",
     "text": [
      "2\n"
     ]
    }
   ],
   "source": [
    "def factorial (numero_fact):\n",
    "    \n",
    "    if type(numero_fact) != int:\n",
    "        return \"Debe ingresar un número entero\"\n",
    "    \n",
    "    if numero_fact > 1:\n",
    "        fact = numero_fact * factorial (numero_fact - 1)\n",
    "        return fact\n",
    "    \n",
    "    if numero_fact == 1 or numero_fact == 0:\n",
    "        fact = 1\n",
    "        return fact\n",
    "    \n",
    "    if numero_fact < 0:\n",
    "        return \"Debe ingresar un número entero positivo\"\n",
    "    \n",
    "print (factorial(2))    "
   ]
  }
 ],
 "metadata": {
  "interpreter": {
   "hash": "c85384e4cb51c8b72350f3a8712cc8351fdc3955e32a27f9b60c6242ab125f01"
  },
  "kernelspec": {
   "display_name": "Python 3 (ipykernel)",
   "language": "python",
   "name": "python3"
  },
  "language_info": {
   "codemirror_mode": {
    "name": "ipython",
    "version": 3
   },
   "file_extension": ".py",
   "mimetype": "text/x-python",
   "name": "python",
   "nbconvert_exporter": "python",
   "pygments_lexer": "ipython3",
   "version": "3.9.7"
  }
 },
 "nbformat": 4,
 "nbformat_minor": 4
}
